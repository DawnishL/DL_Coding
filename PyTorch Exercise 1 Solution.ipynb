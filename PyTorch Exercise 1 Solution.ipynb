{
 "cells": [
  {
   "cell_type": "code",
   "execution_count": null,
   "id": "0",
   "metadata": {},
   "outputs": [],
   "source": [
    "import torch\n",
    "import torch.nn.functional as F"
   ]
  },
  {
   "cell_type": "markdown",
   "id": "1",
   "metadata": {},
   "source": [
    "# Exercise 1: Automatic Differentiation"
   ]
  },
  {
   "cell_type": "code",
   "execution_count": null,
   "id": "2",
   "metadata": {},
   "outputs": [
    {
     "name": "stdout",
     "output_type": "stream",
     "text": [
      "W = tensor([[1., 2.],\n",
      "        [3., 4.]], requires_grad=True)\n",
      "x = tensor([1., 2.], requires_grad=True)\n",
      "b = tensor([1., 2.], requires_grad=True)\n",
      "Gradients of W: tensor([[12., 24.],\n",
      "        [26., 52.]])\n",
      "Gradients of x: tensor([ 90., 128.])\n",
      "Gradients of b: tensor([12., 26.])\n"
     ]
    }
   ],
   "source": [
    "W = torch.tensor([[1.0, 2.0], [3.0, 4.0]], requires_grad=True)\n",
    "x = torch.tensor([1.0, 2.0], requires_grad=True)\n",
    "b = torch.tensor([1.0, 2.0], requires_grad=True)\n",
    "print(\"W = {}\".format(W))\n",
    "print(\"x = {}\".format(x))\n",
    "print(\"b = {}\".format(b))\n",
    "y = torch.dot((torch.matmul(W, x) + b), (torch.matmul(W, x) + b))\n",
    "y.backward()\n",
    "print(\"Gradients of W:\", W.grad)\n",
    "print(\"Gradients of x:\", x.grad)\n",
    "print(\"Gradients of b:\", b.grad)"
   ]
  },
  {
   "cell_type": "markdown",
   "id": "3",
   "metadata": {},
   "source": [
    "# Exercise 2: Neural Networks - Forward Pass\n",
    "### Define the parameters"
   ]
  },
  {
   "cell_type": "code",
   "execution_count": null,
   "id": "4",
   "metadata": {},
   "outputs": [
    {
     "name": "stdout",
     "output_type": "stream",
     "text": [
      "Network output: tensor([ 0.2240, -0.2160], grad_fn=<AddBackward0>)\n"
     ]
    }
   ],
   "source": [
    "W1 = torch.tensor([[0.5, -0.2, 0.1, 0.4],\n",
    "                   [-0.3, 0.8, -0.5, 0.2],\n",
    "                   [0.2, -0.1, 0.3, -0.4]], requires_grad=True)\n",
    "b1 = torch.tensor([0.1, 0.0, -0.2], requires_grad=True)\n",
    "W2 = torch.tensor([[0.3, -0.6, 0.7],\n",
    "                   [0.5, -0.8, 0.1]], requires_grad=True)\n",
    "b2 = torch.tensor([0.2, -0.3], requires_grad=True)\n",
    "x = torch.tensor([1.0, 0.5, -0.2, 0.1])\n",
    "\n",
    "# Forward pass\n",
    "z1 = torch.matmul(W1, x) + b1\n",
    "a1 = F.relu(z1)\n",
    "z2 = torch.matmul(W2, a1) + b2\n",
    "print(\"Network output:\", z2)"
   ]
  },
  {
   "cell_type": "markdown",
   "id": "5",
   "metadata": {},
   "source": [
    "# Exercise 3: Backpropagation and Gradients\n",
    "### Define target and loss"
   ]
  },
  {
   "cell_type": "code",
   "execution_count": null,
   "id": "6",
   "metadata": {},
   "outputs": [
    {
     "name": "stdout",
     "output_type": "stream",
     "text": [
      "Gradients of W2: tensor([[-0.8070, -0.3414, -0.0000],\n",
      "        [-0.2246, -0.0950, -0.0000]])\n",
      "Gradients of b2: tensor([-1.5520, -0.4320])\n",
      "Gradients of W1: tensor([[-0.6816, -0.3408,  0.1363, -0.0682],\n",
      "        [ 1.2768,  0.6384, -0.2554,  0.1277],\n",
      "        [ 0.0000,  0.0000, -0.0000,  0.0000]])\n",
      "Gradients of b1: tensor([-0.6816,  1.2768,  0.0000])\n"
     ]
    }
   ],
   "source": [
    "target = torch.tensor([1.0, 0.0])\n",
    "loss = torch.sum((z2 - target)**2)\n",
    "\n",
    "# Backward pass\n",
    "loss.backward()\n",
    "print(\"Gradients of W2:\", W2.grad)\n",
    "print(\"Gradients of b2:\", b2.grad)\n",
    "print(\"Gradients of W1:\", W1.grad)\n",
    "print(\"Gradients of b1:\", b1.grad)"
   ]
  }
 ],
 "metadata": {
  "kernelspec": {
   "display_name": "intro-dl-ws-2024-25",
   "language": "python",
   "name": "python3"
  },
  "language_info": {
   "codemirror_mode": {
    "name": "ipython",
    "version": 3
   },
   "file_extension": ".py",
   "mimetype": "text/x-python",
   "name": "python",
   "nbconvert_exporter": "python",
   "pygments_lexer": "ipython3",
   "version": "3.11.9"
  }
 },
 "nbformat": 4,
 "nbformat_minor": 5
}
