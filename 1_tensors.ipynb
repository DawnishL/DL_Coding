{
 "cells": [
  {
   "cell_type": "markdown",
   "metadata": {},
   "source": [
    "# Imports"
   ]
  },
  {
   "cell_type": "code",
   "execution_count": 1,
   "metadata": {},
   "outputs": [
    {
     "name": "stderr",
     "output_type": "stream",
     "text": [
      "e:\\Uni Stuttgart\\课程\\Intro to DL\\my_env\\Lib\\site-packages\\torch\\_subclasses\\functional_tensor.py:295: UserWarning: Failed to initialize NumPy: No module named 'numpy' (Triggered internally at C:\\actions-runner\\_work\\pytorch\\pytorch\\builder\\windows\\pytorch\\torch\\csrc\\utils\\tensor_numpy.cpp:84.)\n",
      "  cpu = _conversion_method_template(device=torch.device(\"cpu\"))\n"
     ]
    }
   ],
   "source": [
    "import torch"
   ]
  },
  {
   "cell_type": "markdown",
   "metadata": {
    "slideshow": {
     "slide_type": "slide"
    }
   },
   "source": [
    "# Tensors\n",
    "## Tensor creation\n",
    "\n",
    "Tensors are Pytorch's data structure for representing vectors, matrices and higher dimensional tensors.\n",
    "Tensors contain homogeneous data of fixed size.\n",
    "\n",
    "Tensors can be initialized from Python objects, e.g., a list of lists of integers, making up a $n\\times m$ dimensional array.\n",
    "You just call `torch.tensor(data)` where `data` is the Python object.\n",
    "The data type is automatically inferred, but you can override this behavior by setting the `dtype` argument when calling `torch.tensor`, where `dtype` is one of the PyTorch dtypes as listed at https://pytorch.org/docs/stable/tensors.html#data-types.\n",
    "\n",
    "### Tensors from functions with random or constant values\n",
    "PyTorch provides several functions to create tensors with random or constant values:\n",
    "* `torch.ones(size)`: Creates a tensor filled with ones.\n",
    "* `torch.zeros(size)`: Creates a tensor filled with zeros.\n",
    "* `torch.eye(size)`: Creates a 2D tensor with ones on the diagonal and zeros elsewhere (identity matrix).\n",
    "* `torch.rand(size)`: Creates a tensor with random values uniformly distributed between 0 and 1.\n",
    "* `torch.randn(size)`: Creates a tensor with random values from a normal distribution with mean 0 and variance 1.\n",
    "* `torch.full(size, fill_value)`: Creates a tensor filled with the specified value.\n",
    "\n",
    "### Tensors from other tensors\n",
    "You can create new tensors from existing tensors. This can be done using various functions:\n",
    "* `torch.clone(tensor)`: Creates a copy of the tensor.\n",
    "* `tensor.new_tensor(data)`: Creates a new tensor with the same properties (dtype, device) as the original tensor.\n",
    "* `tensor.expand(size)`: Expands the tensor to a larger size without copying data.\n",
    "* `tensor.view(size)`: Returns a new tensor with the same data but different shape.\n",
    "* `tensor.to(dtype)`: Converts the tensor to a different data type.\n",
    "\n",
    "Note that `size` is a sequence of integers defining the shape of the output tensor, and `dtype` is of type `torch.dtype`, e.g., `torch.float32`.\n",
    "\n",
    "## Device allocation\n",
    "\n",
    "You can also specify the device where the tensor lives, e.g., on CPU (default) or GPU.\n",
    "For this, you can pass the `device` argument to the tensor creation functions, which takes an object of type `torch.device` ([documentation](https://pytorch.org/docs/stable/tensor_attributes.html#torch-device)).\n",
    "These can be created by calling `torch.device` with a device type, e.g., `'cpu'` or `'cuda'` (for GPU), and an ordinal specifying the the device id.\n",
    "\n",
    "## Tensor attributes\n",
    "\n",
    "Attributes allow inspecting some properties of the tensors, e.g., `shape`, `dtype` and `device`.\n",
    "They can be valuable when creating neural networks."
   ]
  },
  {
   "cell_type": "markdown",
   "metadata": {},
   "source": [
    "## Task: Create tensors\n",
    "\n",
    "1. Create a tensor `A` $\\in \\mathbb{R}^{3 \\times 3}$ using the `torch.tensor()` function. Initialize it with the following values:\n",
    "$\n",
    "A = \\begin{bmatrix}\n",
    "1 & 2 & 3 \\\\\n",
    "4 & 5 & 6 \\\\\n",
    "7 & 8 & 9 \\\\\n",
    "\\end{bmatrix}\n",
    "$\n",
    "1. Create a tensor `B` $\\in \\mathbb{R}^{3 \\times 3}$ using the `torch.ones()` function.\n",
    "2. Create a tensor `C` with shape (3, 3) using the `torch.zeros()` function.\n",
    "3. Create a randomly initialized float tensor `D` with the same properties as `C`.\n",
    "4. Inspect the tensors' shape, datatype and device.\n",
    "\n",
    "> Hint: PyTorch tensors have a nice `str` representation and can be printed on the console."
   ]
  },
  {
   "cell_type": "code",
   "execution_count": 2,
   "metadata": {},
   "outputs": [
    {
     "name": "stdout",
     "output_type": "stream",
     "text": [
      "torch.int64\n"
     ]
    }
   ],
   "source": [
    "A=[[1,2,3],[4,5,6],[7,8,9]]\n",
    "Tensor_A=torch.tensor(A)\n",
    "Tensor_B=torch.ones(3,3)\n",
    "Tensor_C=torch.zeros(3,3)\n",
    "print(Tensor_A.dtype)"
   ]
  },
  {
   "cell_type": "markdown",
   "metadata": {},
   "source": [
    "## Tensor operations\n",
    "### Basic operations\n",
    "\n",
    "There are several operations that can be applied to tensors, including arithmetic, linear algebra, sampling, matrix manipulation, logical, conversion, moving device and more.\n",
    "For example, two tensors can be added using `+` or `torch.add`, concatenated using `torch.cat` or moved to a new device using `torch.to`.\n",
    "Conversion to float is done using `Tensor.float`, e.g., `a.float()`.\n",
    "\n",
    "Basic operations:\n",
    "* Add two tensors using `torch.add`.\n",
    "* Multiply two tensors element-wise using `torch.mul`.\n",
    "* Divide two tensors  element-wise using `torch.div`.\n",
    "\n",
    "> Note that most tensor operations from `torch` can directly be called on a tensor: `torch.add(a, b)` is equivalent to `a.add(b)`."
   ]
  },
  {
   "cell_type": "markdown",
   "metadata": {},
   "source": [
    "### Task: Basic tensor operations\n",
    "\n",
    "1. Perform the following operations and print the results:\n",
    "\n",
    "    a) Add tensor `A` and tensor `B` element-wise.\n",
    "\n",
    "    b) Multiply tensor `A` and tensor `C` element-wise.\n",
    "\n",
    "    c) Divide tensor `A` by tensor `B` element-wise.\n",
    "\n",
    "    d) Divide tensor `B` by tensor `C` element-wise."
   ]
  },
  {
   "cell_type": "code",
   "execution_count": 3,
   "metadata": {},
   "outputs": [
    {
     "name": "stdout",
     "output_type": "stream",
     "text": [
      "tensor([[ 2.,  3.,  4.],\n",
      "        [ 5.,  6.,  7.],\n",
      "        [ 8.,  9., 10.]])\n",
      "tensor([[0., 0., 0.],\n",
      "        [0., 0., 0.],\n",
      "        [0., 0., 0.]])\n",
      "tensor([[1., 2., 3.],\n",
      "        [4., 5., 6.],\n",
      "        [7., 8., 9.]])\n",
      "tensor([[inf, inf, inf],\n",
      "        [inf, inf, inf],\n",
      "        [inf, inf, inf]])\n"
     ]
    }
   ],
   "source": [
    "print(torch.add(Tensor_A, Tensor_B))\n",
    "print(torch.mul(Tensor_A, Tensor_C))\n",
    "print(torch.div(Tensor_A, Tensor_B))\n",
    "print(torch.div(Tensor_B, Tensor_C))"
   ]
  },
  {
   "cell_type": "markdown",
   "metadata": {},
   "source": [
    "### Advanced operations\n",
    "\n",
    "Advanced tensor operations include matrix multiplication, dot product, reshaping, and comparison operations.\n",
    "\n",
    "* `torch.matmul(tensor1, tensor2)`: Performs matrix multiplication between two tensors.\n",
    "* `torch.dot(tensor1, tensor2)`: Computes the dot product of two 1D tensors.\n",
    "* `torch.squeeze(tensor)`: Removes dimensions of size 1 from the shape of a tensor.\n",
    "* `torch.eq(tensor1, tensor2)`: Compares two tensors element-wise and returns a tensor of the same shape with boolean values.\n"
   ]
  },
  {
   "cell_type": "markdown",
   "metadata": {},
   "source": [
    "### Task: Advanced tensor operations\n",
    "\n",
    "1. Create a tensor `D` with shape (3, 3) using the `torch.eye()` function.\n",
    "2. Perform the following operations and print the results:\n",
    "    1. Multiply tensor `A` and tensor `D` using the `torch.matmul()` function.\n",
    "    2. Calculate the matrix multiplication of tensor `A` and tensor `D` using the `torch.dot()` function.\n",
    "3. Create a tensor `E` with shape (2, 1) using the `torch.rand()` function.\n",
    "4. Print the size of tensor `E` and then squeeze its dimensions using the `torch.squeeze()` function. Print the size of the squeezed tensor.\n",
    "5. Compare tensor `A` and tensor `B` element-wise using the `torch.eq()` function and print the result."
   ]
  },
  {
   "cell_type": "code",
   "execution_count": 13,
   "metadata": {},
   "outputs": [
    {
     "name": "stdout",
     "output_type": "stream",
     "text": [
      "tensor([[1, 2, 3],\n",
      "        [4, 5, 6],\n",
      "        [7, 8, 9]])\n",
      "tensor([[1, 2, 3],\n",
      "        [4, 5, 6],\n",
      "        [7, 8, 9]])\n",
      "torch.Size([2, 1])\n",
      "tensor([[0.0358],\n",
      "        [0.6508]])\n",
      "torch.Size([2])\n",
      "tensor([0.0358, 0.6508])\n",
      "tensor([[ True, False, False],\n",
      "        [False, False, False],\n",
      "        [False, False, False]])\n"
     ]
    }
   ],
   "source": [
    "Tensor_D=torch.eye(3,3,dtype=torch.int64)\n",
    "Multi_AD=torch.matmul(Tensor_A,Tensor_D)\n",
    "print(Multi_AD)\n",
    "\n",
    "result=torch.zeros(3,3,dtype=torch.int64)\n",
    "for i in range(3):\n",
    "    for j in range(3):\n",
    "        result[i,j]=torch.dot(Tensor_A[i],Tensor_D[:,j])\n",
    "print(result)\n",
    "\n",
    "Tensor_E=torch.rand(2,1)\n",
    "print(Tensor_E.size())\n",
    "print(Tensor_E)\n",
    "squeezed_tensor=torch.squeeze(Tensor_E)\n",
    "print(squeezed_tensor.size())\n",
    "print(squeezed_tensor)\n",
    "\n",
    "print(torch.eq(Tensor_A,Tensor_B))\n"
   ]
  }
 ],
 "metadata": {
  "celltoolbar": "Slideshow",
  "kernelspec": {
   "display_name": "my_env",
   "language": "python",
   "name": "python3"
  },
  "language_info": {
   "codemirror_mode": {
    "name": "ipython",
    "version": 3
   },
   "file_extension": ".py",
   "mimetype": "text/x-python",
   "name": "python",
   "nbconvert_exporter": "python",
   "pygments_lexer": "ipython3",
   "version": "3.11.3"
  }
 },
 "nbformat": 4,
 "nbformat_minor": 4
}
